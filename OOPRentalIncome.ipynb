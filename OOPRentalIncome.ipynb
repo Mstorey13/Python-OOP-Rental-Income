{
 "cells": [
  {
   "cell_type": "code",
   "execution_count": 3,
   "id": "5b44acd4",
   "metadata": {},
   "outputs": [
    {
     "name": "stdout",
     "output_type": "stream",
     "text": [
      "Enter the purchase price of the property: 0432\n",
      "Enter the estimated renovation costs: 5309231\n",
      "Enter the monthly rental income: 24095302\n",
      "Enter the monthly laundry income: 20402\n",
      "Enter the monthly storage income: 209402\n",
      "Enter the monthly misc income: 20942\n",
      "Enter the monthly property expenses: 2904\n",
      "Enter the down payment amount: 2094\n",
      "Enter the mortgage interest rate: 204\n",
      "Enter the mortgage term in years: 24\n",
      "Enter the closing costs: 2\n",
      "Enter the annual property taxes: 4\n",
      "Enter the annual property insurance: 2\n",
      "Enter the expected monthly rent increase: 3\n",
      "Enter the expected rehab budget rate: 2\n",
      "Enter the expected selling costs: 3\n",
      "The total ROI for this rental property is 232350.44%\n"
     ]
    }
   ],
   "source": [
    "class RentalProperty:\n",
    "    def __init__(self, purchase_price, renovation_costs, rental_income, laundry_income, storage_income, misc, property_expenses, down_payment, interest_rate, mortgage_term, closing_costs, annual_property_taxes, annual_property_insurance, monthly_rent_increase, rehab_budget, selling_costs):\n",
    "        self.purchase_price = purchase_price\n",
    "        self.renovation_costs = renovation_costs\n",
    "        self.rental_income = rental_income\n",
    "        self.laundry_income = laundry_income\n",
    "        self.storage_income = storage_income\n",
    "        self.misc = misc\n",
    "        self.property_expenses = property_expenses\n",
    "        self.down_payment = down_payment\n",
    "        self.interest_rate = interest_rate\n",
    "        self.mortgage_term = mortgage_term\n",
    "        self.closing_costs = closing_costs\n",
    "        self.annual_property_taxes = annual_property_taxes\n",
    "        self.annual_property_insurance = annual_property_insurance\n",
    "        self.monthly_rent_increase = monthly_rent_increase\n",
    "        self.rehab_budget = rehab_budget\n",
    "        self.selling_costs = selling_costs\n",
    "        \n",
    "    def calculate_cap_rate(self):\n",
    "        monthly_cash_flow = self.rental_income - self.property_expenses\n",
    "        annual_cash_flow = monthly_cash_flow * 12\n",
    "        annual_mortgage_interest = (self.purchase_price + self.renovation_costs - self.down_payment) * self.interest_rate\n",
    "        annual_net_operating_income = annual_cash_flow - annual_mortgage_interest - self.annual_property_taxes - self.annual_property_insurance\n",
    "        cap_rate = annual_net_operating_income / (self.purchase_price + self.renovation_costs)\n",
    "        return cap_rate\n",
    "\n",
    "    def calculate_roi(self):\n",
    "        expected_annual_appreciation = (self.monthly_rent_increase + self.rehab_budget) * (self.purchase_price + self.renovation_costs) * 12 - self.selling_costs\n",
    "        total_cash_invested = self.purchase_price + self.renovation_costs + self.closing_costs - self.down_payment\n",
    "        total_return = expected_annual_appreciation + (self.calculate_cap_rate() * total_cash_invested)\n",
    "        roi = (total_return / total_cash_invested) * 100\n",
    "        return roi\n",
    "    \n",
    "purchase_price = float(input(\"Enter the purchase price of the property: \"))\n",
    "renovation_costs = float(input(\"Enter the estimated renovation costs: \"))\n",
    "rental_income = float(input(\"Enter the monthly rental income: \"))\n",
    "laundry_income = float(input(\"Enter the monthly laundry income: \"))\n",
    "storage_income = float(input(\"Enter the monthly storage income: \"))\n",
    "misc = float(input(\"Enter the monthly misc income: \"))\n",
    "property_expenses = float(input(\"Enter the monthly property expenses: \"))\n",
    "down_payment = float(input(\"Enter the down payment amount: \"))\n",
    "interest_rate = float(input(\"Enter the mortgage interest rate: \"))\n",
    "mortgage_term = float(input(\"Enter the mortgage term in years: \"))\n",
    "closing_costs = float(input(\"Enter the closing costs: \"))\n",
    "annual_property_taxes = float(input(\"Enter the annual property taxes: \"))\n",
    "annual_property_insurance = float(input(\"Enter the annual property insurance: \"))\n",
    "monthly_rent_increase = float(input(\"Enter the expected monthly rent increase: \"))\n",
    "rehab_budget = float(input(\"Enter the expected rehab budget rate: \"))\n",
    "selling_costs = float(input(\"Enter the expected selling costs: \"))\n",
    "\n",
    "rental_property = RentalProperty(purchase_price, renovation_costs, \n",
    "rental_income, laundry_income, storage_income, misc, property_expenses, down_payment, interest_rate, \n",
    "mortgage_term, closing_costs, annual_property_taxes, annual_property_insurance, \n",
    "monthly_rent_increase, property_appreciation_rate, selling_costs)\n",
    "\n",
    "roi = rental_property.calculate_roi()\n",
    "\n",
    "print(\"The total ROI for this rental property is {:.2f}%\".format(roi))"
   ]
  },
  {
   "cell_type": "markdown",
   "id": "06acd4b2",
   "metadata": {},
   "source": []
  }
 ],
 "metadata": {
  "kernelspec": {
   "display_name": "Python 3 (ipykernel)",
   "language": "python",
   "name": "python3"
  },
  "language_info": {
   "codemirror_mode": {
    "name": "ipython",
    "version": 3
   },
   "file_extension": ".py",
   "mimetype": "text/x-python",
   "name": "python",
   "nbconvert_exporter": "python",
   "pygments_lexer": "ipython3",
   "version": "3.9.13"
  }
 },
 "nbformat": 4,
 "nbformat_minor": 5
}
